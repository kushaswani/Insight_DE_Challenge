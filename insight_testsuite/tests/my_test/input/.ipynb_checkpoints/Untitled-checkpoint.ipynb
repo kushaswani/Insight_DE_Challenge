{
 "cells": [
  {
   "cell_type": "code",
   "execution_count": 1,
   "metadata": {},
   "outputs": [],
   "source": [
    "import pandas as pd\n",
    "import numpy as np\n",
    "# import time\n",
    "\n",
    "input_filepath = 'complaints.csv'\n",
    "output_filepath = '../output/report.csv'\n",
    "\n",
    "# start_pandas = time.process_time()\n",
    "df = pd.read_csv(input_filepath)\n",
    "df['Product'] = df['Product'].str.lower()\n",
    "try:\n",
    "    df['Year'] = pd.to_datetime(df['Date received'], format='%Y-%m-%d').dt.year\n",
    "except:\n",
    "    print(\"Error parsing date\")\n",
    "\n",
    "df1 = df.groupby(['Product','Year']).agg({'Company':'count'}).reset_index()\n",
    "df2 = df[['Product','Year','Company']].drop_duplicates().groupby(['Product','Year']).size().reset_index(name='Total Companies')\n",
    "df3 = df[['Product','Year','Company']].groupby(['Product','Year','Company']).size().reset_index().groupby(['Product','Year']).agg({0:'max'}).reset_index()\n",
    "\n",
    "result = df1.merge(df2).merge(df3)\n",
    "\n",
    "result[0] = (((result[0]/result['Company'])*100)+0.5).apply(np.floor).astype(int)\n",
    "\n",
    "result.to_csv(output_filepath, header=False, index=False)\n",
    "# end_pandas = time.process_time()"
   ]
  },
  {
   "cell_type": "code",
   "execution_count": 2,
   "metadata": {},
   "outputs": [
    {
     "data": {
      "text/plain": [
       "8.515549306999999"
      ]
     },
     "execution_count": 2,
     "metadata": {},
     "output_type": "execute_result"
    }
   ],
   "source": [
    "end_pandas-start_pandas"
   ]
  },
  {
   "cell_type": "code",
   "execution_count": null,
   "metadata": {},
   "outputs": [],
   "source": []
  }
 ],
 "metadata": {
  "kernelspec": {
   "display_name": "Python 3",
   "language": "python",
   "name": "python3"
  },
  "language_info": {
   "codemirror_mode": {
    "name": "ipython",
    "version": 3
   },
   "file_extension": ".py",
   "mimetype": "text/x-python",
   "name": "python",
   "nbconvert_exporter": "python",
   "pygments_lexer": "ipython3",
   "version": "3.7.3"
  }
 },
 "nbformat": 4,
 "nbformat_minor": 2
}
