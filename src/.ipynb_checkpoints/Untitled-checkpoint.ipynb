{
 "cells": [
  {
   "cell_type": "code",
   "execution_count": 1,
   "metadata": {
    "scrolled": true
   },
   "outputs": [],
   "source": [
    "import csv\n",
    "import sys\n",
    "from read_csv import read_csv\n",
    "from read_csv import read_and_transform_csv\n",
    "from function_to_apply import foo\n",
    "from decimal import Decimal, ROUND_HALF_UP\n",
    "import time\n",
    "\n",
    "start = time.process_time()\n",
    "input_filepath = '../insight_testsuite/tests/test_1/input/complaints.csv'\n",
    "output_filepath = '../insight_testsuite/tests/test_1/output/generated_report.csv'\n",
    "\n",
    "#print(input_filepath)\n",
    "\n",
    "result = read_and_transform_csv(filepath = input_filepath, foo = foo, result = {})\n",
    "\n",
    "with open(output_filepath, 'w', newline='') as csvfile:\n",
    "    writer = csv.writer(csvfile, delimiter=',')\n",
    "    for k,v in result:\n",
    "#     for k,v in result.items():\n",
    "        row = [k[0],k[1],v[0],len(v[1])]\n",
    "        temp_v = 0\n",
    "        for v_ in v[1].values():\n",
    "            if v_>temp_v:\n",
    "                temp_v = v_\n",
    "        ratio = int(Decimal((temp_v/v[0])*100).to_integral_value(rounding=ROUND_HALF_UP))\n",
    "        row.append(ratio)\n",
    "        writer.writerow(row)\n",
    "\n",
    "end = time.process_time()"
   ]
  },
  {
   "cell_type": "code",
   "execution_count": 2,
   "metadata": {},
   "outputs": [],
   "source": [
    "test_1_actual_report = []\n",
    "with open('../insight_testsuite/tests/test_1/output/report.csv') as csvfile:\n",
    "    reader = csv.reader(csvfile, delimiter=',')\n",
    "    for i,row in enumerate(reader):\n",
    "        test_1_actual_report.append(row)\n",
    "\n",
    "test_1_generated_report = []\n",
    "with open('../insight_testsuite/tests/test_1/output/generated_report.csv') as csvfile:\n",
    "    reader = csv.reader(csvfile, delimiter=',')\n",
    "    for i,row in enumerate(reader):\n",
    "        test_1_generated_report.append(row)"
   ]
  },
  {
   "cell_type": "code",
   "execution_count": 3,
   "metadata": {},
   "outputs": [
    {
     "name": "stdout",
     "output_type": "stream",
     "text": [
      "Insight's test passed\n"
     ]
    }
   ],
   "source": [
    "if test_1_actual_report == test_1_generated_report:\n",
    "    print(\"Insight's test passed\")"
   ]
  },
  {
   "cell_type": "code",
   "execution_count": 4,
   "metadata": {},
   "outputs": [],
   "source": [
    "start = time.process_time()\n",
    "input_filepath = '../insight_testsuite/tests/my_test/input/complaints.csv'\n",
    "output_filepath = '../insight_testsuite/tests/my_test/output/generated_report.csv'\n",
    "\n",
    "#print(input_filepath)\n",
    "\n",
    "result = read_and_transform_csv(filepath = input_filepath, foo = foo, result = {})\n",
    "\n",
    "with open(output_filepath, 'w', newline='') as csvfile:\n",
    "    writer = csv.writer(csvfile, delimiter=',')\n",
    "    for k,v in result:\n",
    "#     for k,v in result.items():\n",
    "        row = [k[0],k[1],v[0],len(v[1])]\n",
    "        temp_v = 0\n",
    "        for v_ in v[1].values():\n",
    "            if v_>temp_v:\n",
    "                temp_v = v_\n",
    "        ratio = int(Decimal((temp_v/v[0])*100).to_integral_value(rounding=ROUND_HALF_UP))\n",
    "        row.append(ratio)\n",
    "        writer.writerow(row)\n",
    "\n",
    "end = time.process_time()"
   ]
  },
  {
   "cell_type": "code",
   "execution_count": null,
   "metadata": {},
   "outputs": [],
   "source": [
    "import pandas as pd\n",
    "import numpy as np\n",
    "\n",
    "input_filepath = '../insight_testsuite/tests/my_test/input/complaints.csv'\n",
    "output_filepath = '../insight_testsuite/tests/my_test/output/report.csv'\n",
    "\n",
    "start_pandas = time.process_time()\n",
    "df = pd.read_csv(input_filepath)\n",
    "df['Product'] = df['Product'].str.lower()\n",
    "try:\n",
    "    df['Year'] = pd.to_datetime(df['Date received'], format='%Y-%m-%d').dt.year\n",
    "except:\n",
    "    print(\"Error parsing date\")\n",
    "\n",
    "df1 = df.groupby(['Product','Year']).agg({'Company':'count'}).reset_index()\n",
    "df2 = df[['Product','Year','Company']].drop_duplicates().groupby(['Product','Year']).size().reset_index(name='Total Companies')\n",
    "df3 = df[['Product','Year','Company']].groupby(['Product','Year','Company']).size().reset_index().groupby(['Product','Year']).agg({0:'max'}).reset_index()\n",
    "\n",
    "result = df1.merge(df2).merge(df3)\n",
    "\n",
    "result[0] = (((result[0]/result['Company'])*100)+0.5).apply(np.floor).astype(int)\n",
    "\n",
    "result.to_csv(output_filepath, header=False, index=False)\n",
    "end_pandas = time.process_time()\n"
   ]
  },
  {
   "cell_type": "code",
   "execution_count": 5,
   "metadata": {},
   "outputs": [],
   "source": [
    "my_test_actual_report = []\n",
    "with open('../insight_testsuite/tests/my_test/output/report.csv') as csvfile:\n",
    "    reader = csv.reader(csvfile, delimiter=',')\n",
    "    for i,row in enumerate(reader):\n",
    "        my_test_actual_report.append(row)\n",
    "\n",
    "my_test_generated_report = []\n",
    "with open('../insight_testsuite/tests/my_test/output/generated_report.csv') as csvfile:\n",
    "    reader = csv.reader(csvfile, delimiter=',')\n",
    "    for i,row in enumerate(reader):\n",
    "        my_test_generated_report.append(row)"
   ]
  },
  {
   "cell_type": "code",
   "execution_count": 6,
   "metadata": {},
   "outputs": [
    {
     "name": "stdout",
     "output_type": "stream",
     "text": [
      "My test passed\n"
     ]
    }
   ],
   "source": [
    "if my_test_actual_report == my_test_generated_report:\n",
    "    print(\"My test passed\")"
   ]
  },
  {
   "cell_type": "code",
   "execution_count": null,
   "metadata": {},
   "outputs": [],
   "source": []
  }
 ],
 "metadata": {
  "kernelspec": {
   "display_name": "Python 3",
   "language": "python",
   "name": "python3"
  },
  "language_info": {
   "codemirror_mode": {
    "name": "ipython",
    "version": 3
   },
   "file_extension": ".py",
   "mimetype": "text/x-python",
   "name": "python",
   "nbconvert_exporter": "python",
   "pygments_lexer": "ipython3",
   "version": "3.7.3"
  }
 },
 "nbformat": 4,
 "nbformat_minor": 2
}
